{
  "nbformat": 4,
  "nbformat_minor": 0,
  "metadata": {
    "colab": {
      "provenance": [],
      "authorship_tag": "ABX9TyOJLbwHzTFdD3Llg6PJmFDf",
      "include_colab_link": true
    },
    "kernelspec": {
      "name": "python3",
      "display_name": "Python 3"
    },
    "language_info": {
      "name": "python"
    }
  },
  "cells": [
    {
      "cell_type": "markdown",
      "metadata": {
        "id": "view-in-github",
        "colab_type": "text"
      },
      "source": [
        "<a href=\"https://colab.research.google.com/github/ghatagessg/ghatagessg/blob/main/Copy_of_factorial.ipynb\" target=\"_parent\"><img src=\"https://colab.research.google.com/assets/colab-badge.svg\" alt=\"Open In Colab\"/></a>"
      ]
    },
    {
      "cell_type": "code",
      "execution_count": 3,
      "metadata": {
        "colab": {
          "base_uri": "https://localhost:8080/"
        },
        "id": "IhBThU344eoA",
        "outputId": "02304a87-2f67-48e4-f29e-2b36a2e71041"
      },
      "outputs": [
        {
          "output_type": "stream",
          "name": "stdout",
          "text": [
            "The factorial of 5 is 120\n",
            "The factorial of 0 is 1\n"
          ]
        }
      ],
      "source": [
        "\n",
        "# Example usage:\n",
        "def factorial(n):\n",
        "  if (n==1 or n==0) :\n",
        "    return 1\n",
        "  else:\n",
        "    return n * factorial(n-1)\n",
        "number = 5\n",
        "result = factorial(number)\n",
        "print(f\"The factorial of {number} is {result}\")\n",
        "\n",
        "number = 0\n",
        "result = factorial(number)\n",
        "print(f\"The factorial of {number} is {result}\")\n",
        "\n"
      ]
    },
    {
      "cell_type": "code",
      "source": [],
      "metadata": {
        "id": "ttRUy62AJ4fU"
      },
      "execution_count": null,
      "outputs": []
    },
    {
      "cell_type": "code",
      "source": [
        "ssg=\"SSG\"\n",
        "print(\"My name is\",ssg)"
      ],
      "metadata": {
        "id": "bsan1rMKJyvf",
        "outputId": "c6862973-2f8a-4a18-e48d-808ab63f4f1e",
        "colab": {
          "base_uri": "https://localhost:8080/"
        }
      },
      "execution_count": 4,
      "outputs": [
        {
          "output_type": "stream",
          "name": "stdout",
          "text": [
            "My name is SSG\n"
          ]
        }
      ]
    },
    {
      "cell_type": "code",
      "source": [
        "# multiplecation table of given number\n",
        "def multtable(n):\n",
        "  for i in range(1,111):\n",
        "    print(' ',i*n,' ')\n",
        "\n",
        " # function calling\n",
        "multtable(7)\n",
        "\n",
        "\n"
      ],
      "metadata": {
        "id": "4-xMoVbHCc16",
        "colab": {
          "base_uri": "https://localhost:8080/"
        },
        "outputId": "2a045b86-8dd3-4071-adb8-abe073debe03"
      },
      "execution_count": 2,
      "outputs": [
        {
          "output_type": "stream",
          "name": "stdout",
          "text": [
            "  7  \n",
            "  14  \n",
            "  21  \n",
            "  28  \n",
            "  35  \n",
            "  42  \n",
            "  49  \n",
            "  56  \n",
            "  63  \n",
            "  70  \n",
            "  77  \n",
            "  84  \n",
            "  91  \n",
            "  98  \n",
            "  105  \n",
            "  112  \n",
            "  119  \n",
            "  126  \n",
            "  133  \n",
            "  140  \n",
            "  147  \n",
            "  154  \n",
            "  161  \n",
            "  168  \n",
            "  175  \n",
            "  182  \n",
            "  189  \n",
            "  196  \n",
            "  203  \n",
            "  210  \n",
            "  217  \n",
            "  224  \n",
            "  231  \n",
            "  238  \n",
            "  245  \n",
            "  252  \n",
            "  259  \n",
            "  266  \n",
            "  273  \n",
            "  280  \n",
            "  287  \n",
            "  294  \n",
            "  301  \n",
            "  308  \n",
            "  315  \n",
            "  322  \n",
            "  329  \n",
            "  336  \n",
            "  343  \n",
            "  350  \n",
            "  357  \n",
            "  364  \n",
            "  371  \n",
            "  378  \n",
            "  385  \n",
            "  392  \n",
            "  399  \n",
            "  406  \n",
            "  413  \n",
            "  420  \n",
            "  427  \n",
            "  434  \n",
            "  441  \n",
            "  448  \n",
            "  455  \n",
            "  462  \n",
            "  469  \n",
            "  476  \n",
            "  483  \n",
            "  490  \n",
            "  497  \n",
            "  504  \n",
            "  511  \n",
            "  518  \n",
            "  525  \n",
            "  532  \n",
            "  539  \n",
            "  546  \n",
            "  553  \n",
            "  560  \n",
            "  567  \n",
            "  574  \n",
            "  581  \n",
            "  588  \n",
            "  595  \n",
            "  602  \n",
            "  609  \n",
            "  616  \n",
            "  623  \n",
            "  630  \n",
            "  637  \n",
            "  644  \n",
            "  651  \n",
            "  658  \n",
            "  665  \n",
            "  672  \n",
            "  679  \n",
            "  686  \n",
            "  693  \n",
            "  700  \n",
            "  707  \n",
            "  714  \n",
            "  721  \n",
            "  728  \n",
            "  735  \n",
            "  742  \n",
            "  749  \n",
            "  756  \n",
            "  763  \n",
            "  770  \n"
          ]
        }
      ]
    }
  ]
}