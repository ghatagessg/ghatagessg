{
  "nbformat": 4,
  "nbformat_minor": 0,
  "metadata": {
    "colab": {
      "provenance": [],
      "authorship_tag": "ABX9TyOiisqYg8aDwEHqMfgDRszp",
      "include_colab_link": true
    },
    "kernelspec": {
      "name": "python3",
      "display_name": "Python 3"
    },
    "language_info": {
      "name": "python"
    }
  },
  "cells": [
    {
      "cell_type": "markdown",
      "metadata": {
        "id": "view-in-github",
        "colab_type": "text"
      },
      "source": [
        "<a href=\"https://colab.research.google.com/github/ghatagessg/ghatagessg/blob/main/factorial.ipynb\" target=\"_parent\"><img src=\"https://colab.research.google.com/assets/colab-badge.svg\" alt=\"Open In Colab\"/></a>"
      ]
    },
    {
      "cell_type": "code",
      "execution_count": null,
      "metadata": {
        "colab": {
          "base_uri": "https://localhost:8080/"
        },
        "id": "IhBThU344eoA",
        "outputId": "43b12415-f125-4bf7-b10d-dc2fa9f3eb71"
      },
      "outputs": [
        {
          "output_type": "stream",
          "name": "stdout",
          "text": [
            "The factorial of 5 is 120\n"
          ]
        }
      ],
      "source": [
        "# Example usage:\n",
        "number = 5\n",
        "result = factorial(number)\n",
        "print(f\"The factorial of {number} is {result}\")\n",
        "\n",
        "number = 0\n",
        "result = factorial(number)\n",
        "print(f\"The factorial of {number} is {result}\")\n"
      ]
    }
  ]
}