{
  "nbformat": 4,
  "nbformat_minor": 0,
  "metadata": {
    "colab": {
      "provenance": [],
      "authorship_tag": "ABX9TyNIQZ4rKHkOW5Ko7sc/hP2I",
      "include_colab_link": true
    },
    "kernelspec": {
      "name": "python3",
      "display_name": "Python 3"
    },
    "language_info": {
      "name": "python"
    }
  },
  "cells": [
    {
      "cell_type": "markdown",
      "metadata": {
        "id": "view-in-github",
        "colab_type": "text"
      },
      "source": [
        "<a href=\"https://colab.research.google.com/github/ghatagessg/ghatagessg/blob/main/2Dmatrix_operations.ipynb\" target=\"_parent\"><img src=\"https://colab.research.google.com/assets/colab-badge.svg\" alt=\"Open In Colab\"/></a>"
      ]
    },
    {
      "cell_type": "code",
      "execution_count": 4,
      "metadata": {
        "colab": {
          "base_uri": "https://localhost:8080/"
        },
        "id": "83tZR7G3nATi",
        "outputId": "db656a7f-09bf-4a84-91f7-516eea1933d0"
      },
      "outputs": [
        {
          "output_type": "stream",
          "name": "stdout",
          "text": [
            "\n",
            "A: \n",
            "[[1 2 3]\n",
            " [4 5 6]]\n",
            "\n",
            "B: \n",
            "[[ 7  8  9]\n",
            " [11 12 13]]\n",
            "\n",
            "A + B :\n",
            "[[ 8 10 12]\n",
            " [15 17 19]]\n",
            "\n",
            "A - B :\n",
            "[[-6 -6 -6]\n",
            " [-7 -7 -7]]\n",
            "\n",
            "A * B :\n",
            "[[ 7 16 27]\n",
            " [44 60 78]]\n"
          ]
        }
      ],
      "source": [
        "# 2D matrix operations\n",
        "import numpy as np\n",
        "\n",
        "# create A and B matrices\n",
        "A = np.array([[1, 2, 3], [4, 5, 6]])\n",
        "B = np.array([[7, 8, 9],[11, 12, 13]])\n",
        "\n",
        "print (\"\\nA: \")\n",
        "print (A)\n",
        "print (\"\\nB: \")\n",
        "print (B)\n",
        "\n",
        "# Element wise addition\n",
        "C=A+B\n",
        "print (\"\\nA + B :\")\n",
        "print (C)\n",
        "\n",
        "# Element wise subtraction\n",
        "C=A-B\n",
        "print (\"\\nA - B :\")\n",
        "print (C)\n",
        "\n",
        "# Element wise multiplication\n",
        "C=A*B\n",
        "print (\"\\nA * B :\")\n",
        "print (C)\n",
        "\n",
        "\n"
      ]
    }
  ]
}