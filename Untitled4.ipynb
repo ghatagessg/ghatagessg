{
  "nbformat": 4,
  "nbformat_minor": 0,
  "metadata": {
    "colab": {
      "provenance": [],
      "authorship_tag": "ABX9TyPHb9ARsTqlCoBaXEj2UsMW",
      "include_colab_link": true
    },
    "kernelspec": {
      "name": "python3",
      "display_name": "Python 3"
    },
    "language_info": {
      "name": "python"
    }
  },
  "cells": [
    {
      "cell_type": "markdown",
      "metadata": {
        "id": "view-in-github",
        "colab_type": "text"
      },
      "source": [
        "<a href=\"https://colab.research.google.com/github/ghatagessg/ghatagessg/blob/main/Untitled4.ipynb\" target=\"_parent\"><img src=\"https://colab.research.google.com/assets/colab-badge.svg\" alt=\"Open In Colab\"/></a>"
      ]
    },
    {
      "cell_type": "code",
      "source": [
        "import array as arr\n",
        "# create an array a\n",
        "a = arr.array('i',[1,2,3,4,5,6,7,8,9,10])\n",
        "print(a)\n",
        "\n",
        "# insert an element at given position\n",
        "a.insert(5,55)\n",
        "print(a)\n",
        "\n",
        "# delete element from given position\n",
        "del a[6]\n",
        "print (a)\n",
        "\n",
        "# traverse an array a\n",
        "for i in range(len(a)):\n",
        "  print (a[i])\n",
        "\n",
        "# search a given element and display its posion\n",
        "pos = a.index(55)\n",
        "print ('position of 55 is', pos)"
      ],
      "metadata": {
        "colab": {
          "base_uri": "https://localhost:8080/"
        },
        "id": "Aj2qg7J6Urph",
        "outputId": "0eb7aac5-416e-4e29-ef2d-4b584c15f797"
      },
      "execution_count": null,
      "outputs": [
        {
          "output_type": "stream",
          "name": "stdout",
          "text": [
            "array('i', [1, 2, 3, 4, 5, 6, 7, 8, 9, 10])\n",
            "array('i', [1, 2, 3, 4, 5, 55, 6, 7, 8, 9, 10])\n",
            "array('i', [1, 2, 3, 4, 5, 55, 7, 8, 9, 10])\n",
            "1\n",
            "2\n",
            "3\n",
            "4\n",
            "5\n",
            "55\n",
            "7\n",
            "8\n",
            "9\n",
            "10\n",
            "position of 55 is 5\n"
          ]
        }
      ]
    }
  ]
}